{
 "cells": [
  {
   "cell_type": "code",
   "execution_count": 3,
   "id": "6e1d1615",
   "metadata": {},
   "outputs": [],
   "source": [
    "from pygam import s, f, LinearGAM\n",
    "import matplotlib.pyplot as plt\n",
    "import numpy as np\n",
    "import pandas as pd\n",
    "import seaborn as sns\n",
    "from sklearn.datasets import load_diabetes\n",
    "from sklearn.model_selection import train_test_split\n",
    "from sklearn.metrics import mean_squared_error, r2_score\n",
    "\n",
    "# Load the diabetes dataset\n",
    "diabetes = load_diabetes()\n"
   ]
  },
  {
   "cell_type": "code",
   "execution_count": 4,
   "id": "4f97320c",
   "metadata": {},
   "outputs": [],
   "source": [
    "df = pd.DataFrame(diabetes.data, columns=diabetes.feature_names)\n",
    "df['target'] = diabetes.target\n",
    "\n",
    "# Split the data into training and testing sets\n",
    "# Split the data into training and testing sets\n",
    "X_train, X_test, y_train, y_test = train_test_split(\n",
    "    df.drop('target', axis=1).to_numpy(),\n",
    "    df['target'].to_numpy(),\n",
    "    test_size=0.2,\n",
    "    random_state=42,\n",
    ")"
   ]
  },
  {
   "cell_type": "code",
   "execution_count": 5,
   "id": "b312d095",
   "metadata": {},
   "outputs": [
    {
     "name": "stderr",
     "output_type": "stream",
     "text": [
      "  0% (0 of 11) |                         | Elapsed Time: 0:00:00 ETA:  --:--:--\n",
      "  9% (1 of 11) |##                       | Elapsed Time: 0:00:00 ETA:   0:00:00\n",
      " 18% (2 of 11) |####                     | Elapsed Time: 0:00:00 ETA:   0:00:00\n",
      " 27% (3 of 11) |######                   | Elapsed Time: 0:00:00 ETA:   0:00:00\n"
     ]
    },
    {
     "name": "stdout",
     "output_type": "stream",
     "text": [
      "LinearGAM(callbacks=['deviance', 'diffs'], fit_intercept=True, \n",
      "   max_iter=100, n_splines=35, scale=None, terms='auto', tol=0.0001, \n",
      "   verbose=False)\n"
     ]
    },
    {
     "name": "stderr",
     "output_type": "stream",
     "text": [
      " 36% (4 of 11) |#########                | Elapsed Time: 0:00:00 ETA:   0:00:00\n",
      " 45% (5 of 11) |###########              | Elapsed Time: 0:00:00 ETA:   0:00:00\n",
      " 54% (6 of 11) |#############            | Elapsed Time: 0:00:00 ETA:   0:00:00\n",
      " 63% (7 of 11) |###############          | Elapsed Time: 0:00:00 ETA:   0:00:00\n",
      " 72% (8 of 11) |##################       | Elapsed Time: 0:00:00 ETA:   0:00:00\n",
      " 81% (9 of 11) |####################     | Elapsed Time: 0:00:00 ETA:   0:00:00\n",
      " 90% (10 of 11) |#####################   | Elapsed Time: 0:00:00 ETA:   0:00:00\n",
      "100% (11 of 11) |########################| Elapsed Time: 0:00:00 Time:  0:00:00\n"
     ]
    },
    {
     "data": {
      "text/plain": [
       "LinearGAM(callbacks=[Deviance(), Diffs()], fit_intercept=True, \n",
       "   max_iter=100, scale=None, \n",
       "   terms=s(0) + s(1) + s(2) + s(3) + s(4) + s(5) + s(6) + s(7) + s(8) + s(9) + intercept,\n",
       "   tol=0.0001, verbose=False)"
      ]
     },
     "execution_count": 5,
     "metadata": {},
     "output_type": "execute_result"
    }
   ],
   "source": [
    "# LinearGAM class for implementing Generalized Additive Models\n",
    "gam = LinearGAM(n_splines=35)\n",
    "print(gam)\n",
    "\n",
    "gam.gridsearch(X_train, y_train)\n",
    "\n"
   ]
  },
  {
   "cell_type": "code",
   "execution_count": 6,
   "id": "0fd4d2fd",
   "metadata": {},
   "outputs": [
    {
     "name": "stderr",
     "output_type": "stream",
     "text": [
      "  0% (0 of 2) |                          | Elapsed Time: 0:00:00 ETA:  --:--:--\n",
      " 50% (1 of 2) |#############             | Elapsed Time: 0:00:00 ETA:   0:00:00\n",
      "100% (2 of 2) |##########################| Elapsed Time: 0:00:00 Time:  0:00:00\n"
     ]
    },
    {
     "data": {
      "text/plain": [
       "LinearGAM(callbacks=[Deviance(), Diffs()], fit_intercept=True, \n",
       "   max_iter=100, scale=None, \n",
       "   terms=s(0) + s(1) + s(2) + s(3) + s(4) + s(5) + s(6) + s(7) + s(8) + s(9) + intercept,\n",
       "   tol=0.0001, verbose=False)"
      ]
     },
     "execution_count": 6,
     "metadata": {},
     "output_type": "execute_result"
    }
   ],
   "source": [
    "gam.gridsearch(X_train, y_train, lam = np.logspace(-1, 2, 2))"
   ]
  },
  {
   "cell_type": "code",
   "execution_count": 7,
   "id": "4e9a8390",
   "metadata": {},
   "outputs": [
    {
     "name": "stdout",
     "output_type": "stream",
     "text": [
      "LinearGAM                                                                                                 \n",
      "=============================================== ==========================================================\n",
      "Distribution:                        NormalDist Effective DoF:                                     28.5697\n",
      "Link Function:                     IdentityLink Log Likelihood:                                 -3131.3522\n",
      "Number of Samples:                          353 AIC:                                             6321.8438\n",
      "                                                AICc:                                            6327.4508\n",
      "                                                GCV:                                             3319.9418\n",
      "                                                Scale:                                           2840.0752\n",
      "                                                Pseudo R-Squared:                                   0.5704\n",
      "==========================================================================================================\n",
      "Feature Function                  Lambda               Rank         EDoF         P > x        Sig. Code   \n",
      "================================= ==================== ============ ============ ============ ============\n",
      "s(0)                              [1000.]              35           6.4          3.39e-01                 \n",
      "s(1)                              [1000.]              35           3.1          7.17e-04     ***         \n",
      "s(2)                              [1000.]              35           4.6          1.33e-06     ***         \n",
      "s(3)                              [1000.]              35           4.0          7.64e-02     .           \n",
      "s(4)                              [1000.]              35           3.6          6.81e-02     .           \n",
      "s(5)                              [1000.]              35           2.3          8.75e-02     .           \n",
      "s(6)                              [1000.]              35           2.1          9.26e-01                 \n",
      "s(7)                              [1000.]              35           1.3          1.76e-01                 \n",
      "s(8)                              [1000.]              35           0.8          1.41e-02     *           \n",
      "s(9)                              [1000.]              35           0.3          1.04e-01                 \n",
      "intercept                                              1            0.0          1.22e-15     ***         \n",
      "==========================================================================================================\n",
      "Significance codes:  0 '***' 0.001 '**' 0.01 '*' 0.05 '.' 0.1 ' ' 1\n",
      "\n",
      "WARNING: Fitting splines and a linear function to a feature introduces a model identifiability problem\n",
      "         which can cause p-values to appear significant when they are not.\n",
      "\n",
      "WARNING: p-values calculated in this manner behave correctly for un-penalized models or models with\n",
      "         known smoothing parameters, but when smoothing parameters have been estimated, the p-values\n",
      "         are typically lower than they should be, meaning that the tests reject the null too readily.\n",
      "None\n"
     ]
    },
    {
     "name": "stderr",
     "output_type": "stream",
     "text": [
      "/var/folders/sx/1v4_rhcd3h998mhd7mxbvfl00000gn/T/ipykernel_62893/3564666153.py:1: UserWarning: KNOWN BUG: p-values computed in this summary are likely much smaller than they should be. \n",
      " \n",
      "Please do not make inferences based on these values! \n",
      "\n",
      "Collaborate on a solution, and stay up to date at: \n",
      "github.com/dswah/pyGAM/issues/163 \n",
      "\n",
      "  print(gam.summary())\n"
     ]
    }
   ],
   "source": [
    "print(gam.summary())"
   ]
  },
  {
   "cell_type": "code",
   "execution_count": 13,
   "id": "cf7fe463",
   "metadata": {},
   "outputs": [
    {
     "ename": "ValueError",
     "evalue": "X data must have 10 features, but found 1",
     "output_type": "error",
     "traceback": [
      "\u001b[31m---------------------------------------------------------------------------\u001b[39m",
      "\u001b[31mValueError\u001b[39m                                Traceback (most recent call last)",
      "\u001b[36mCell\u001b[39m\u001b[36m \u001b[39m\u001b[32mIn[13]\u001b[39m\u001b[32m, line 17\u001b[39m\n\u001b[32m     15\u001b[39m gi = grid_locs[i]\n\u001b[32m     16\u001b[39m XX = gam_generate_X_grid(term = i)\n\u001b[32m---> \u001b[39m\u001b[32m17\u001b[39m pdep, preds = \u001b[43mgam\u001b[49m\u001b[43m.\u001b[49m\u001b[43mpartial_dependence\u001b[49m\u001b[43m(\u001b[49m\u001b[43mterm\u001b[49m\u001b[43m \u001b[49m\u001b[43m=\u001b[49m\u001b[43m \u001b[49m\u001b[43mi\u001b[49m\u001b[43m,\u001b[49m\u001b[43m \u001b[49m\u001b[43mX\u001b[49m\u001b[43m \u001b[49m\u001b[43m=\u001b[49m\u001b[43m \u001b[49m\u001b[43mXX\u001b[49m\u001b[43m)\u001b[49m\n\u001b[32m     18\u001b[39m ax[gi[\u001b[32m0\u001b[39m], gi[\u001b[32m1\u001b[39m]] = axs[gi]\n\u001b[32m     19\u001b[39m ax.plot(pdep, preds)\n",
      "\u001b[36mFile \u001b[39m\u001b[32m/opt/anaconda3/envs/xai/lib/python3.13/site-packages/pygam/pygam.py:1613\u001b[39m, in \u001b[36mGAM.partial_dependence\u001b[39m\u001b[34m(self, term, X, width, quantiles, meshgrid)\u001b[39m\n\u001b[32m   1603\u001b[39m     X = \u001b[38;5;28mself\u001b[39m._flatten_mesh(X, term=term)\n\u001b[32m   1604\u001b[39m     X = check_X(\n\u001b[32m   1605\u001b[39m         X,\n\u001b[32m   1606\u001b[39m         n_feats=\u001b[38;5;28mself\u001b[39m.statistics_[\u001b[33m\"\u001b[39m\u001b[33mm_features\u001b[39m\u001b[33m\"\u001b[39m],\n\u001b[32m   (...)\u001b[39m\u001b[32m   1610\u001b[39m         verbose=\u001b[38;5;28mself\u001b[39m.verbose,\n\u001b[32m   1611\u001b[39m     )\n\u001b[32m-> \u001b[39m\u001b[32m1613\u001b[39m modelmat = \u001b[38;5;28;43mself\u001b[39;49m\u001b[43m.\u001b[49m\u001b[43m_modelmat\u001b[49m\u001b[43m(\u001b[49m\u001b[43mX\u001b[49m\u001b[43m,\u001b[49m\u001b[43m \u001b[49m\u001b[43mterm\u001b[49m\u001b[43m=\u001b[49m\u001b[43mterm\u001b[49m\u001b[43m)\u001b[49m\n\u001b[32m   1614\u001b[39m pdep = \u001b[38;5;28mself\u001b[39m._linear_predictor(modelmat=modelmat, term=term)\n\u001b[32m   1615\u001b[39m out = [pdep]\n",
      "\u001b[36mFile \u001b[39m\u001b[32m/opt/anaconda3/envs/xai/lib/python3.13/site-packages/pygam/pygam.py:486\u001b[39m, in \u001b[36mGAM._modelmat\u001b[39m\u001b[34m(self, X, term)\u001b[39m\n\u001b[32m    467\u001b[39m \u001b[38;5;28;01mdef\u001b[39;00m\u001b[38;5;250m \u001b[39m\u001b[34m_modelmat\u001b[39m(\u001b[38;5;28mself\u001b[39m, X, term=-\u001b[32m1\u001b[39m):\n\u001b[32m    468\u001b[39m \u001b[38;5;250m    \u001b[39m\u001b[33;03m\"\"\"\u001b[39;00m\n\u001b[32m    469\u001b[39m \u001b[33;03m    Builds a model matrix, B, out of the spline basis for each feature.\u001b[39;00m\n\u001b[32m    470\u001b[39m \n\u001b[32m   (...)\u001b[39m\u001b[32m    484\u001b[39m \u001b[33;03m        containing model matrix of the spline basis for selected features\u001b[39;00m\n\u001b[32m    485\u001b[39m \u001b[33;03m    \"\"\"\u001b[39;00m\n\u001b[32m--> \u001b[39m\u001b[32m486\u001b[39m     X = \u001b[43mcheck_X\u001b[49m\u001b[43m(\u001b[49m\n\u001b[32m    487\u001b[39m \u001b[43m        \u001b[49m\u001b[43mX\u001b[49m\u001b[43m,\u001b[49m\n\u001b[32m    488\u001b[39m \u001b[43m        \u001b[49m\u001b[43mn_feats\u001b[49m\u001b[43m=\u001b[49m\u001b[38;5;28;43mself\u001b[39;49m\u001b[43m.\u001b[49m\u001b[43mstatistics_\u001b[49m\u001b[43m[\u001b[49m\u001b[33;43m\"\u001b[39;49m\u001b[33;43mm_features\u001b[39;49m\u001b[33;43m\"\u001b[39;49m\u001b[43m]\u001b[49m\u001b[43m,\u001b[49m\n\u001b[32m    489\u001b[39m \u001b[43m        \u001b[49m\u001b[43medge_knots\u001b[49m\u001b[43m=\u001b[49m\u001b[38;5;28;43mself\u001b[39;49m\u001b[43m.\u001b[49m\u001b[43medge_knots_\u001b[49m\u001b[43m,\u001b[49m\n\u001b[32m    490\u001b[39m \u001b[43m        \u001b[49m\u001b[43mdtypes\u001b[49m\u001b[43m=\u001b[49m\u001b[38;5;28;43mself\u001b[39;49m\u001b[43m.\u001b[49m\u001b[43mdtype\u001b[49m\u001b[43m,\u001b[49m\n\u001b[32m    491\u001b[39m \u001b[43m        \u001b[49m\u001b[43mfeatures\u001b[49m\u001b[43m=\u001b[49m\u001b[38;5;28;43mself\u001b[39;49m\u001b[43m.\u001b[49m\u001b[43mfeature\u001b[49m\u001b[43m,\u001b[49m\n\u001b[32m    492\u001b[39m \u001b[43m        \u001b[49m\u001b[43mverbose\u001b[49m\u001b[43m=\u001b[49m\u001b[38;5;28;43mself\u001b[39;49m\u001b[43m.\u001b[49m\u001b[43mverbose\u001b[49m\u001b[43m,\u001b[49m\n\u001b[32m    493\u001b[39m \u001b[43m    \u001b[49m\u001b[43m)\u001b[49m\n\u001b[32m    495\u001b[39m     \u001b[38;5;28;01mreturn\u001b[39;00m \u001b[38;5;28mself\u001b[39m.terms.build_columns(X, term=term)\n",
      "\u001b[36mFile \u001b[39m\u001b[32m/opt/anaconda3/envs/xai/lib/python3.13/site-packages/pygam/utils.py:296\u001b[39m, in \u001b[36mcheck_X\u001b[39m\u001b[34m(X, n_feats, min_samples, edge_knots, dtypes, features, verbose)\u001b[39m\n\u001b[32m    293\u001b[39m     n_feats = \u001b[38;5;28mmax\u001b[39m(n_feats, max_feat)\n\u001b[32m    295\u001b[39m \u001b[38;5;66;03m# basic diagnostics\u001b[39;00m\n\u001b[32m--> \u001b[39m\u001b[32m296\u001b[39m X = \u001b[43mcheck_array\u001b[49m\u001b[43m(\u001b[49m\n\u001b[32m    297\u001b[39m \u001b[43m    \u001b[49m\u001b[43mX\u001b[49m\u001b[43m,\u001b[49m\n\u001b[32m    298\u001b[39m \u001b[43m    \u001b[49m\u001b[43mforce_2d\u001b[49m\u001b[43m=\u001b[49m\u001b[38;5;28;43;01mTrue\u001b[39;49;00m\u001b[43m,\u001b[49m\n\u001b[32m    299\u001b[39m \u001b[43m    \u001b[49m\u001b[43mn_feats\u001b[49m\u001b[43m=\u001b[49m\u001b[43mn_feats\u001b[49m\u001b[43m,\u001b[49m\n\u001b[32m    300\u001b[39m \u001b[43m    \u001b[49m\u001b[43mmin_samples\u001b[49m\u001b[43m=\u001b[49m\u001b[43mmin_samples\u001b[49m\u001b[43m,\u001b[49m\n\u001b[32m    301\u001b[39m \u001b[43m    \u001b[49m\u001b[43mname\u001b[49m\u001b[43m=\u001b[49m\u001b[33;43m\"\u001b[39;49m\u001b[33;43mX data\u001b[39;49m\u001b[33;43m\"\u001b[39;49m\u001b[43m,\u001b[49m\n\u001b[32m    302\u001b[39m \u001b[43m    \u001b[49m\u001b[43mverbose\u001b[49m\u001b[43m=\u001b[49m\u001b[43mverbose\u001b[49m\u001b[43m,\u001b[49m\n\u001b[32m    303\u001b[39m \u001b[43m\u001b[49m\u001b[43m)\u001b[49m\n\u001b[32m    305\u001b[39m \u001b[38;5;66;03m# check our categorical data has no new categories\u001b[39;00m\n\u001b[32m    306\u001b[39m \u001b[38;5;28;01mif\u001b[39;00m (edge_knots \u001b[38;5;129;01mis\u001b[39;00m \u001b[38;5;129;01mnot\u001b[39;00m \u001b[38;5;28;01mNone\u001b[39;00m) \u001b[38;5;129;01mand\u001b[39;00m (dtypes \u001b[38;5;129;01mis\u001b[39;00m \u001b[38;5;129;01mnot\u001b[39;00m \u001b[38;5;28;01mNone\u001b[39;00m) \u001b[38;5;129;01mand\u001b[39;00m (features \u001b[38;5;129;01mis\u001b[39;00m \u001b[38;5;129;01mnot\u001b[39;00m \u001b[38;5;28;01mNone\u001b[39;00m):\n\u001b[32m    307\u001b[39m     \u001b[38;5;66;03m# get a flattened list of tuples\u001b[39;00m\n",
      "\u001b[36mFile \u001b[39m\u001b[32m/opt/anaconda3/envs/xai/lib/python3.13/site-packages/pygam/utils.py:190\u001b[39m, in \u001b[36mcheck_array\u001b[39m\u001b[34m(array, force_2d, n_feats, ndim, min_samples, name, verbose)\u001b[39m\n\u001b[32m    188\u001b[39m     m = array.shape[\u001b[32m1\u001b[39m]\n\u001b[32m    189\u001b[39m     \u001b[38;5;28;01mif\u001b[39;00m m != n_feats:\n\u001b[32m--> \u001b[39m\u001b[32m190\u001b[39m         \u001b[38;5;28;01mraise\u001b[39;00m \u001b[38;5;167;01mValueError\u001b[39;00m(\u001b[33mf\u001b[39m\u001b[33m\"\u001b[39m\u001b[38;5;132;01m{\u001b[39;00mname\u001b[38;5;132;01m}\u001b[39;00m\u001b[33m must have \u001b[39m\u001b[38;5;132;01m{\u001b[39;00mn_feats\u001b[38;5;132;01m}\u001b[39;00m\u001b[33m features, but found \u001b[39m\u001b[38;5;132;01m{\u001b[39;00mm\u001b[38;5;132;01m}\u001b[39;00m\u001b[33m\"\u001b[39m)\n\u001b[32m    192\u001b[39m \u001b[38;5;66;03m# minimum samples\u001b[39;00m\n\u001b[32m    193\u001b[39m n = array.shape[\u001b[32m0\u001b[39m]\n",
      "\u001b[31mValueError\u001b[39m: X data must have 10 features, but found 1"
     ]
    },
    {
     "data": {
      "image/png": "[encoded data removed]",
      "text/plain": [
       "<Figure size 1200x800 with 4 Axes>"
      ]
     },
     "metadata": {},
     "output_type": "display_data"
    }
   ],
   "source": [
    "grid_locs = [(0, 0), (0, 1), (1, 0), (1, 1)]\n",
    "\n",
    "fig, axs = plt.subplots(2, 2, figsize=(12, 8))\n",
    "\n",
    "def gam_generate_X_grid(term):\n",
    "    if term == 0:\n",
    "        return np.linspace(0, 1, 100)\n",
    "    elif term == 1:\n",
    "        return np.linspace(0, 1, 100)\n",
    "    else:\n",
    "        return np.linspace(0, 1, 100)\n",
    "\n",
    "feature_names = diabetes.feature_names\n",
    "for i, feature in enumerate(feature_names[:4]):\n",
    "    gi = grid_locs[i]\n",
    "    XX = gam_generate_X_grid(term = i)\n",
    "    pdep, preds = gam.partial_dependence(term = i, X = XX)\n",
    "    ax[gi[0], gi[1]] = axs[gi]\n",
    "    ax.plot(pdep, preds)\n",
    "    ax.set_title(f'Partial dependence of {feature}')\n",
    "    ax.set_xlabel(feature)\n",
    "    ax.set_ylabel('Partial dependence')\n",
    "    \n",
    "    "
   ]
  }
 ],
 "metadata": {
  "kernelspec": {
   "display_name": "xai",
   "language": "python",
   "name": "python3"
  },
  "language_info": {
   "codemirror_mode": {
    "name": "ipython",
    "version": 3
   },
   "file_extension": ".py",
   "mimetype": "text/x-python",
   "name": "python",
   "nbconvert_exporter": "python",
   "pygments_lexer": "ipython3",
   "version": "3.13.7"
  }
 },
 "nbformat": 4,
 "nbformat_minor": 5
}
